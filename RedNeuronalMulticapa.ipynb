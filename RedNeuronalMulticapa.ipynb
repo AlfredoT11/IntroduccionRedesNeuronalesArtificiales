{
 "cells": [
  {
   "cell_type": "code",
   "execution_count": 1,
   "id": "1e70f2e0",
   "metadata": {},
   "outputs": [],
   "source": [
    "import numpy as np\n",
    "import matplotlib.pyplot as plt\n",
    "\n",
    "def sigmoid(A):\n",
    "    return 1/(1 + np.exp(-A))\n",
    "\n",
    "def sigmoid_derivate(A):\n",
    "    return A*(1-A)\n",
    "\n",
    "class NeuralNetwork:\n",
    "    def __init__(self, num_capas, neuronas_por_capa, num_entradas, alfa):\n",
    "        \n",
    "        self.num_capas = num_capas\n",
    "        self.num_entradas = num_entradas\n",
    "        \n",
    "        #Configurando los pesos W de la capa 1.\n",
    "        neuronas_capa_inicial = neuronas_por_capa[0]\n",
    "        self.W_capas = [np.random.uniform(-1, 1, neuronas_capa_inicial*(num_entradas+1)).reshape((neuronas_capa_inicial, num_entradas+1))]\n",
    "        \n",
    "        #Configurando los pesos W de las capas posteriores.\n",
    "        for i in range(1, num_capas):\n",
    "            neuronas_capa_i = neuronas_por_capa[i]\n",
    "            num_entradas_capa = neuronas_por_capa[i-1]\n",
    "            self.W_capas.append(np.random.uniform(-1, 1, neuronas_capa_i*(num_entradas_capa+1)).reshape((neuronas_capa_i, num_entradas_capa+1)))\n",
    "            \n",
    "        self.alfa = alfa\n",
    "        \n",
    "    def train(self, X, T, epocas):\n",
    "        #for W in self.W_capas:\n",
    "        #    print(W)\n",
    "        #    print()\n",
    "            \n",
    "        #Se aumentan los vectores de entrada para incluir el bias.\n",
    "        bias = -np.ones((np.shape(X)[0], 1))\n",
    "        X_a = np.concatenate([X, bias], axis = 1)\n",
    "        \n",
    "        for i in range(epocas):\n",
    "            \n",
    "            #Se recorren todos los patrones de entrenamiento.\n",
    "            for x, t in zip(X_a, T):\n",
    "                \n",
    "                #print(f\"T shape: {np.shape(np.reshape(t, (-1, 1)))}\")\n",
    "                resultados_capas = [np.reshape(x, (-1, 1))]\n",
    "                deltas_capas = [None] * self.num_capas\n",
    "                \n",
    "                #Se calcula la salida de la primera capa.\n",
    "                mult_res = np.matmul(self.W_capas[0], np.reshape(x, (-1, 1)))\n",
    "                sigmoid_res = sigmoid(mult_res)\n",
    "                resultados_capas.append(np.vstack([sigmoid_res, [-1]]))\n",
    "                \n",
    "                for capa in range(1, num_capas):\n",
    "                    #Se aumenta el vector de la capa anterior para incluir el bias.\n",
    "                    res_capa_previa = np.vstack([sigmoid_res, [-1]])\n",
    "                    mult_res = np.matmul(self.W_capas[capa], res_capa_previa)\n",
    "                    sigmoid_res = sigmoid(mult_res)\n",
    "                    resultados_capas.append(np.vstack([sigmoid_res, [-1]]))\n",
    "                    \n",
    "                #Salida de la red:\n",
    "                #print(f\"Obtenido: {sigmoid_res}\")\n",
    "                #print(f\"Esperado: {np.reshape(t, (-1, 1))}\")\n",
    "                #print(f\"Diferencia: {np.reshape(t, (-1, 1)) - sigmoid_res}\")\n",
    "                #print(f\"Derivada: {sigmoid_derivate(sigmoid_res)}\")\n",
    "                delta_salida = sigmoid_derivate(sigmoid_res)*(np.reshape(t, (-1, 1)) - sigmoid_res)\n",
    "                #print(f\"Delta salida: {delta_salida}\")\n",
    "                deltas_capas[-1] = delta_salida\n",
    "                \n",
    "                #print(f\"Resultados: \")\n",
    "                #print(resultados_capas)\n",
    "                \n",
    "                #print(f\"Deltas: \")\n",
    "                #print(deltas_capas)\n",
    "                \n",
    "                #print(f\"Res anterior T: {np.transpose(resultados_capas[-1-1])}\")\n",
    "                \n",
    "                delta_w = self.alfa * np.matmul(deltas_capas[-1], np.transpose(resultados_capas[-1-1]))\n",
    "                #print(f\"Delta_w: {delta_w}\")\n",
    "                #print(f\"W final: {self.W_capas[-1]}\")\n",
    "                self.W_capas[-1] += delta_w\n",
    "                #print(f\"Nuevo W final: {self.W_capas[-1]}\")\n",
    "                \n",
    "                #print()\n",
    "                \n",
    "                for i in range(1, self.num_capas):\n",
    "                    #print(f\"Entrenando la capa: {self.num_capas - i}\")\n",
    "                    #print(f\"Res anterior T: {np.transpose(resultados_capas[-1-1-i])}\")\n",
    "                    #print(f\"W sig T: {np.transpose(self.W_capas[-i])}\")\n",
    "                    #print(f\"Delta anterior T: {deltas_capas[-i]}\")\n",
    "                    sum_delta_w = np.matmul(np.transpose(self.W_capas[-i]), deltas_capas[-i])\n",
    "                    #print(f\"Dot product: {sum_delta_w}\")\n",
    "                    #print(f\"Resultado capa: {resultados_capas[-1-i]}\")\n",
    "                    #print(f\"Derivada: {sigmoid_derivate(resultados_capas[-1-i])}\")\n",
    "                    delta = sigmoid_derivate(resultados_capas[-1-i])*sum_delta_w\n",
    "                    deltas_capas[-1-i] = delta[:-1, :]\n",
    "                    #print(f\"Delta: {delta}\")\n",
    "                    \n",
    "                    delta_w = self.alfa * np.matmul(delta[:-1, :], np.transpose(resultados_capas[-1-1-i]))\n",
    "                    #print(f\"Delta shape: {np.shape(delta_w)}\")\n",
    "                    #print(f\"W shape: {np.shape(self.W_capas[-1-i])}\")\n",
    "                    #print(f\"Delta_w: {delta_w}\")\n",
    "                    #print(f\"W final: {self.W_capas[-1-i]}\")\n",
    "                    self.W_capas[-1-i] += delta_w\n",
    "                    #print(f\"Nuevo W final: {self.W_capas[-1-i]}\")\n",
    "                                        \n",
    "            "
   ]
  },
  {
   "cell_type": "code",
   "execution_count": 56,
   "id": "9033e481",
   "metadata": {},
   "outputs": [
    {
     "data": {
      "image/png": "[encoded data removed]",
      "text/plain": [
       "<Figure size 432x288 with 1 Axes>"
      ]
     },
     "metadata": {
      "needs_background": "light"
     },
     "output_type": "display_data"
    }
   ],
   "source": [
    "num_capas = 2\n",
    "neuronas_por_capa = [2, 1]\n",
    "num_entradas = 2\n",
    "alfa = 0.1\n",
    "NN = NeuralNetwork(num_capas, neuronas_por_capa, num_entradas, alfa)\n",
    "#NN.train(X, T)\n",
    "\n",
    "X = np.array([[2.0, 7.0], [3.0, 9.0], [4.0, 4.0], [6.0, 11.0], [7.0, 4.0], [5.0, 7.0], [8.0, 6.0], [8.0, 9.0], [10.0, 6.0], [10.0, 9.0]])\n",
    "T = np.array([[0.0], [0.0], [0.0], [0.0], [0.0], [1.0], [1.0], [1.0], [1.0], [1.0]])\n",
    "\n",
    "x1 = np.linspace(0, 10)\n",
    "x2 = (NN.W_capas[0][0, 2] / NN.W_capas[0][0, 1]) - (x1 * NN.W_capas[0][0, 0] / NN.W_capas[0][0, 1])\n",
    "x3 = (NN.W_capas[0][1, 2] / NN.W_capas[0][1, 1]) - (x1 * NN.W_capas[0][1, 0] / NN.W_capas[0][1, 1])\n",
    "plt.figure(1)\n",
    "plt.plot(x1, x2, 'red', linewidth = 2)\n",
    "plt.plot(x1, x3, 'blue', linewidth = 2)\n",
    "\n",
    "for x, t in zip(X, T):\n",
    "    if t[0] <= 0:\n",
    "        plt.scatter(x[0], x[1], color = 'g', s = 200, marker = 'o', alpha = 0.8)\n",
    "    else:\n",
    "        plt.scatter(x[0], x[1], color = 'b', s = 200, marker = 'x', alpha = 0.8)\n",
    "\n",
    "plt.title('Regla del perceptrón: Frontera de decisión inicial')\n",
    "plt.show()\n"
   ]
  },
  {
   "cell_type": "code",
   "execution_count": 60,
   "id": "6aa741f4",
   "metadata": {},
   "outputs": [
    {
     "name": "stdout",
     "output_type": "stream",
     "text": [
      "Antes: \n",
      "[array([[-3.92461316,  2.39581398, -0.05067336],\n",
      "       [ 0.05437567,  1.30893887,  6.62529664]]), array([[-5.84613919,  6.28307378,  3.2142797 ]])]\n",
      "Después: \n",
      "[array([[-4.17688276,  2.58319848,  0.0391932 ],\n",
      "       [ 0.06179636,  1.62995065,  8.36488056]]), array([[-7.33875559,  8.14782023,  4.25139508]])]\n"
     ]
    },
    {
     "data": {
      "image/png": "[encoded data removed]",
      "text/plain": [
       "<Figure size 432x288 with 1 Axes>"
      ]
     },
     "metadata": {
      "needs_background": "light"
     },
     "output_type": "display_data"
    }
   ],
   "source": [
    "print(\"Antes: \")\n",
    "print(NN.W_capas)\n",
    "NN.alfa = 0.1\n",
    "NN.train(X, T, 3000)\n",
    "print(\"Después: \")\n",
    "print(NN.W_capas)\n",
    "\n",
    "X = np.array([[2.0, 7.0], [3.0, 9.0], [4.0, 4.0], [6.0, 11.0], [7.0, 4.0], [5.0, 7.0], [8.0, 6.0], [8.0, 9.0], [10.0, 6.0], [10.0, 9.0]])\n",
    "T = np.array([[0.0], [0.0], [0.0], [0.0], [0.0], [1.0], [1.0], [1.0], [1.0], [1.0]])\n",
    "\n",
    "x1 = np.linspace(0, 10)\n",
    "x2 = (NN.W_capas[0][0, 2] / NN.W_capas[0][0, 1]) - (x1 * NN.W_capas[0][0, 0] / NN.W_capas[0][0, 1])\n",
    "x3 = (NN.W_capas[0][1, 2] / NN.W_capas[0][1, 1]) - (x1 * NN.W_capas[0][1, 0] / NN.W_capas[0][1, 1])\n",
    "plt.figure(1)\n",
    "plt.plot(x1, x2, 'red', linewidth = 2)\n",
    "plt.plot(x1, x3, 'blue', linewidth = 2)\n",
    "\n",
    "for x, t in zip(X, T):\n",
    "    if t[0] <= 0:\n",
    "        plt.scatter(x[0], x[1], color = 'g', s = 200, marker = 'o', alpha = 0.8)\n",
    "    else:\n",
    "        plt.scatter(x[0], x[1], color = 'b', s = 200, marker = 'x', alpha = 0.8)\n",
    "\n",
    "plt.title('Regla del perceptrón: Frontera de decisión inicial')\n",
    "plt.show()"
   ]
  }
 ],
 "metadata": {
  "kernelspec": {
   "display_name": "Python 3 (ipykernel)",
   "language": "python",
   "name": "python3"
  },
  "language_info": {
   "codemirror_mode": {
    "name": "ipython",
    "version": 3
   },
   "file_extension": ".py",
   "mimetype": "text/x-python",
   "name": "python",
   "nbconvert_exporter": "python",
   "pygments_lexer": "ipython3",
   "version": "3.9.7"
  }
 },
 "nbformat": 4,
 "nbformat_minor": 5
}
