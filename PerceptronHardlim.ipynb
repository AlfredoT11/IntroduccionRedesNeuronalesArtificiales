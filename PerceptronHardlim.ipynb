{
 "cells": [
  {
   "cell_type": "code",
   "execution_count": 1,
   "id": "0192e6b8",
   "metadata": {},
   "outputs": [],
   "source": [
    "import numpy as np\n",
    "import matplotlib.pyplot as plt\n",
    "\n",
    "class Perceptron:\n",
    "    def __init__(self, n, alfa):\n",
    "        self.W = np.random.uniform(-1, 1, n)\n",
    "        #self.W[0] = 0.5\n",
    "        #self.W[1] = 0.5\n",
    "        self.b = np.random.uniform(-1, 1, 1)\n",
    "        #self.b = -0.5\n",
    "        self.alfa = alfa\n",
    "        \n",
    "    def train(self, X, T):\n",
    "        \n",
    "        epoch = 0\n",
    "        \n",
    "        found_error = True\n",
    "        while(found_error):\n",
    "            epoch += 1\n",
    "            #print(f\"Epoch: {epoch}\")\n",
    "            found_error = False\n",
    "            for x, t in zip(X, T):\n",
    "                #print(f\"x: {x}, t: {t}\")\n",
    "                #print(f\"Dot: {x}.{self.W} = {np.dot(self.W, x)} + {self.b}\")\n",
    "                a = np.heaviside(np.dot(self.W, x) - self.b, 1)\n",
    "                #print(f\"\\n{x} {t} vs {a}\")\n",
    "                if(a != t):\n",
    "                    found_error = True\n",
    "                    #print(f\"Anterior: {self.W}, {self.b}\")\n",
    "                    #self.W += self.alfa * (t - a) * x\n",
    "                    self.W[0] += self.alfa * (t - a) * x[0]\n",
    "                    self.W[1] += self.alfa * (t - a) * x[1]\n",
    "                    self.b -= self.alfa * (t - a)\n",
    "                    #print(f\"Nuevo: {self.W}, {self.b}\\n\")\n",
    "                    \n",
    "    def classify(self, x):\n",
    "        return np.heaviside(np.dot(self.W, x) - self.b, 1)\n"
   ]
  },
  {
   "cell_type": "code",
   "execution_count": 2,
   "id": "5962021e",
   "metadata": {},
   "outputs": [
    {
     "name": "stdout",
     "output_type": "stream",
     "text": [
      "W: [-0.67146899 -0.88067785], b: [-0.49252221]\n"
     ]
    },
    {
     "data": {
      "image/png": "[encoded data removed]",
      "text/plain": [
       "<Figure size 432x288 with 1 Axes>"
      ]
     },
     "metadata": {
      "needs_background": "light"
     },
     "output_type": "display_data"
    }
   ],
   "source": [
    "perceptron_1 = Perceptron(2, 0.25)\n",
    "print(f\"W: {perceptron_1.W}, b: {perceptron_1.b}\")\n",
    "\n",
    "X = np.array([[2, 6], [4, 4], [6, 3], [4, 10], [7, 10], [9, 8]])\n",
    "T = np.array([0.0, 0.0, 0.0, 1.0, 1.0, 1.0])\n",
    "\n",
    "#X = np.array([[0, 0], [0, 1], [1, 0], [1, 1]])\n",
    "#T = np.array([0, 1, 1, 1])\n",
    "\n",
    "x1 = np.linspace(0, 10)\n",
    "x2 = perceptron_1.b / perceptron_1.W[1] - (x1 * perceptron_1.W[0] / perceptron_1.W[1])\n",
    "\n",
    "plt.figure(1)\n",
    "plt.plot(x1, x2, 'red', linewidth = 2)\n",
    "\n",
    "for x, t in zip(X, T):\n",
    "    if t == 0:\n",
    "        plt.scatter(x[0], x[1], color = 'g', s = 200, marker = 'o', alpha = 0.8)\n",
    "    else:\n",
    "        plt.scatter(x[0], x[1], color = 'b', s = 200, marker = 'x', alpha = 0.8)\n",
    "\n",
    "plt.title('Regla del perceptrón: Frontera de decisión inicial')\n",
    "plt.show()"
   ]
  },
  {
   "cell_type": "code",
   "execution_count": 3,
   "id": "63c9174a",
   "metadata": {},
   "outputs": [
    {
     "name": "stdout",
     "output_type": "stream",
     "text": [
      "W: [0.07853101 0.61932215], b: [4.00747779]\n"
     ]
    },
    {
     "data": {
      "image/png": "[encoded data removed]",
      "text/plain": [
       "<Figure size 432x288 with 1 Axes>"
      ]
     },
     "metadata": {
      "needs_background": "light"
     },
     "output_type": "display_data"
    }
   ],
   "source": [
    "#print(f\"W: {perceptron_1.W}, b: {perceptron_1.b}\")\n",
    "perceptron_1.train(X, T)\n",
    "print(f\"W: {perceptron_1.W}, b: {perceptron_1.b}\")\n",
    "\n",
    "x1 = np.linspace(0, 10)\n",
    "x2 = (perceptron_1.b / perceptron_1.W[1]) - (x1 * perceptron_1.W[0] / perceptron_1.W[1])\n",
    "\n",
    "plt.figure(1)\n",
    "plt.plot(x1, x2, 'red', linewidth = 2)\n",
    "\n",
    "for x, t in zip(X, T):\n",
    "    if t == 0:\n",
    "        plt.scatter(x[0], x[1], color = 'g', s = 200, marker = 'o', alpha = 0.8)\n",
    "    else:\n",
    "        plt.scatter(x[0], x[1], color = 'b', s = 200, marker = 'x', alpha = 0.8)\n",
    "\n",
    "plt.title('Regla del perceptrón: Frontera de decisión inicial')\n",
    "plt.show()"
   ]
  },
  {
   "cell_type": "code",
   "execution_count": 5,
   "id": "70b917fa",
   "metadata": {},
   "outputs": [
    {
     "name": "stdout",
     "output_type": "stream",
     "text": [
      "Result class for [5 5]: 0.0\n",
      "Result class for [6 8]: 1.0\n"
     ]
    },
    {
     "data": {
      "image/png": "[encoded data removed]",
      "text/plain": [
       "<Figure size 432x288 with 1 Axes>"
      ]
     },
     "metadata": {
      "needs_background": "light"
     },
     "output_type": "display_data"
    }
   ],
   "source": [
    "test_data = np.array([[5, 5], [6, 8]])\n",
    "test_data_classes = np.zeros(2)\n",
    "\n",
    "for i in range(np.shape(test_data)[0]):\n",
    "    pattern_class = perceptron_1.classify(test_data[i])\n",
    "    test_data_classes[i] = pattern_class\n",
    "    print(f\"Result class for {test_data[i]}: {test_data_classes[i]}\")\n",
    "    \n",
    "\n",
    "plt.figure(1)\n",
    "plt.plot(x1, x2, 'red', linewidth = 2)    \n",
    "    \n",
    "for x, t in zip(X, T):\n",
    "    if t == 0:\n",
    "        plt.scatter(x[0], x[1], color = 'g', s = 200, marker = 'o', alpha = 0.8)\n",
    "    else:\n",
    "        plt.scatter(x[0], x[1], color = 'b', s = 200, marker = 'x', alpha = 0.8)\n",
    "        \n",
    "for x, t in zip(test_data, test_data_classes):\n",
    "    if t == 0:\n",
    "        plt.scatter(x[0], x[1], color = 'r', s = 200, marker = 'o', alpha = 0.8)\n",
    "    else:\n",
    "        plt.scatter(x[0], x[1], color = 'r', s = 200, marker = 'x', alpha = 0.8)    \n",
    "\n",
    "plt.title('Regla del perceptrón: Frontera de decisión final')\n",
    "plt.show()    "
   ]
  }
 ],
 "metadata": {
  "kernelspec": {
   "display_name": "Python 3 (ipykernel)",
   "language": "python",
   "name": "python3"
  },
  "language_info": {
   "codemirror_mode": {
    "name": "ipython",
    "version": 3
   },
   "file_extension": ".py",
   "mimetype": "text/x-python",
   "name": "python",
   "nbconvert_exporter": "python",
   "pygments_lexer": "ipython3",
   "version": "3.9.7"
  }
 },
 "nbformat": 4,
 "nbformat_minor": 5
}
